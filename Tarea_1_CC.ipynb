{
  "nbformat": 4,
  "nbformat_minor": 0,
  "metadata": {
    "colab": {
      "name": "Tarea_1_CC.ipynb",
      "provenance": [],
      "collapsed_sections": [],
      "include_colab_link": true
    },
    "kernelspec": {
      "display_name": "Python 3",
      "language": "python",
      "name": "python3"
    },
    "language_info": {
      "codemirror_mode": {
        "name": "ipython",
        "version": 3
      },
      "file_extension": ".py",
      "mimetype": "text/x-python",
      "name": "python",
      "nbconvert_exporter": "python",
      "pygments_lexer": "ipython3",
      "version": "3.6.9"
    }
  },
  "cells": [
    {
      "cell_type": "markdown",
      "metadata": {
        "id": "view-in-github",
        "colab_type": "text"
      },
      "source": [
        "<a href=\"https://colab.research.google.com/github/maxaubel/Scientific-Computing/blob/master/Tarea_1_CC.ipynb\" target=\"_parent\"><img src=\"https://colab.research.google.com/assets/colab-badge.svg\" alt=\"Open In Colab\"/></a>"
      ]
    },
    {
      "cell_type": "markdown",
      "metadata": {
        "id": "aBPGOpUM11V1"
      },
      "source": [
        "\n",
        "<center>\n",
        "    <h1> INF285 - Computación Científica </h1>\n",
        "    <h1> Tarea N°1, V0.3 </h1>\n",
        "    \n",
        "</center>\n",
        "\n",
        "<p>\n",
        "\n",
        "</p>"
      ]
    },
    {
      "cell_type": "markdown",
      "metadata": {
        "id": "B7MCAVSDRk3l"
      },
      "source": [
        "## Instrucciones\n",
        "\n",
        "* La tarea es individual, sin embargo se invita a todos l@s estudiantes a que discutan entre ustedes las preguntas pero luego implementen de forma individual su tarea.\n",
        "* Las consultas sobre las tareas se deben realizar por medio de la plataforma Aula.\n",
        "* La tarea debe ser realizada en `Jupyter Notebook` (`Python3`).\n",
        "* Se evaluará la correcta utilización de librerias `NumPy`, `SciPy`, entre otras, así como la correcta implementación de algoritmos de forma vectorizada.\n",
        "* **No modifique la firma de las funciones** (a menos que se le diga lo contrario) y respete el output que se le exije. **En caso de no respetar esta regla la función se considerará errónea.**\n",
        "*  **El archivo de entrega debe denominarse ROL-tarea-numero.ipynb**. _De no respetarse este formato existirá un descuento de **50 puntos**_\n",
        "* La fecha de entrega es el jueves 6 de mayo a las **18:00 hrs**.  \n",
        "* Debe citar cualquier código ajeno utilizado (incluso si proviene de los Jupyter Notebooks del curso).\n",
        "* Puede agregar funciones extras siempre y cuando **no interfieran en las firmas** de las funciones principales establecidas."
      ]
    },
    {
      "cell_type": "markdown",
      "metadata": {
        "id": "PNhvmtRq2Orx"
      },
      "source": [
        "## Introducción \n",
        "\n",
        "En esta primera tarea de INF-285, versión 2021-1, estudiaremos la importancia de los primeros temas estudiados en el curso, los cuales son: Representación de Punto Flotante, Pérdida de Importancia, Errores de Cancelación y Búsqueda de Ceros. \n",
        "El desarrollo de cada uno de esos temas se presenta en una serie de preguntas donde deberá ir decidiendo, pregunta a pregunta, cómo cada uno de los temas se aplica.\n",
        "En general, los temas no se analizan por separado, sino de manera acoplada. \n",
        "Es muy importante que cada uno de los problemas sea analizado teóricamente primero, para luego poner su conocimiento en acción. \n",
        "Cada problema puede ser desarrollado de diversas formas, sin embargo, es muy importante determinar al final si el camino elegido resuelve la pregunta presentada.\n",
        "Es decir, debe aplicar la metodología IDEA!"
      ]
    },
    {
      "cell_type": "markdown",
      "metadata": {
        "id": "lAtn1U0qRg2S"
      },
      "source": [
        "## Problemas"
      ]
    },
    {
      "cell_type": "markdown",
      "metadata": {
        "id": "3znHUOxOUB0-"
      },
      "source": [
        "### 1. Simulador (60 ptos) \n",
        "\n",
        "Dada la familia de polinomios de grado 3 con la forma:\n",
        "\n",
        "\n",
        "\\begin{equation}\n",
        "f(x)=-1 + x + 2 A^2 x - 3 A^2 x^2 + A^2 x^3\n",
        "\\end{equation}\n",
        "\n",
        "Se pide implementar un algoritmo que reciba como parámetros el valor de $A$ (con $|A|>>1$), 'bits_mant' que corresponde a la cantidad de bits que tiene la mantisa y 'bits_exp' que corresponde a la cantidad de bits que tiene el exponente. \n",
        "El algoritmo se ejecutará en un computador ficticio que representa los números con esa cantidad de bits para el estándar de punto flotante IEEE. \n",
        "Debe controlar los casos especiales correctamente.\n",
        "Esta implementación debe calcular las raíces de $f$ sin pérdida de **importancia** con la cantidad de bits disponibles para la mantisa y la cantidad de bits para el exponente.\n",
        "Para obtener las raíces de $f$ usted debe encontrar de forma algebraica sus raíces y luego proponer un algoritmo basado en las _fórmulas_ obtenidas.\n",
        "\n",
        "El computador ficticio cuenta con las operaciones matemáticas necesarias para obtener las raíces. \n",
        "Considere como límites de bits para la mantisa en el intervalo $[2,52]$ y en el intervalo $[2,11]$ para los bits del exponente.\n",
        "\n",
        "Ejemplo:\n",
        "\n",
        "```python\n",
        "# Algoritmo de ejemplo\n",
        "a = 9819824.624837\n",
        "b = 148736.523476\n",
        "c = a+b\n",
        "\n",
        "# Implementación de ejemplo con Representación de Punto Flotante de 'bits_mant' bits en la mantisa y 'bits_exp' bits en el exponente.\n",
        "am = f_new_rep(9819824.624837,bits_mant,bits_exp) # Aproximar el input en la nueva representación.\n",
        "bm = f_new_rep(148736.523476,bits_mant,bits_exp) # Aproximar el input en la nueva representación.\n",
        "cm = f_suma(am,bm,bits_mant,bits_exp) # Aproximar el output de la suma y cada operación en la nueva representación.\n",
        "```\n"
      ]
    },
    {
      "cell_type": "code",
      "metadata": {
        "id": "l1Yapf7cOIPf",
        "colab": {
          "base_uri": "https://localhost:8080/"
        },
        "outputId": "d6a42ed7-527a-4c7d-e1dd-838359d463d5"
      },
      "source": [
        "# !pip install bitstring # to run on google colab\n",
        "import bitstring as bs\n",
        "import numpy as np"
      ],
      "execution_count": 4,
      "outputs": [
        {
          "output_type": "stream",
          "text": [
            "Collecting bitstring\n",
            "\u001b[?25l  Downloading https://files.pythonhosted.org/packages/c3/fc/ffac2c199d2efe1ec5111f55efeb78f5f2972456df6939fea849f103f9f5/bitstring-3.1.7.tar.gz (195kB)\n",
            "\r\u001b[K     |█▊                              | 10kB 14.3MB/s eta 0:00:01\r\u001b[K     |███▍                            | 20kB 19.9MB/s eta 0:00:01\r\u001b[K     |█████                           | 30kB 13.7MB/s eta 0:00:01\r\u001b[K     |██████▊                         | 40kB 13.4MB/s eta 0:00:01\r\u001b[K     |████████▍                       | 51kB 9.6MB/s eta 0:00:01\r\u001b[K     |██████████                      | 61kB 8.7MB/s eta 0:00:01\r\u001b[K     |███████████▊                    | 71kB 9.7MB/s eta 0:00:01\r\u001b[K     |█████████████▍                  | 81kB 10.7MB/s eta 0:00:01\r\u001b[K     |███████████████                 | 92kB 9.7MB/s eta 0:00:01\r\u001b[K     |████████████████▊               | 102kB 9.3MB/s eta 0:00:01\r\u001b[K     |██████████████████▍             | 112kB 9.3MB/s eta 0:00:01\r\u001b[K     |████████████████████            | 122kB 9.3MB/s eta 0:00:01\r\u001b[K     |█████████████████████▊          | 133kB 9.3MB/s eta 0:00:01\r\u001b[K     |███████████████████████▍        | 143kB 9.3MB/s eta 0:00:01\r\u001b[K     |█████████████████████████       | 153kB 9.3MB/s eta 0:00:01\r\u001b[K     |██████████████████████████▉     | 163kB 9.3MB/s eta 0:00:01\r\u001b[K     |████████████████████████████▌   | 174kB 9.3MB/s eta 0:00:01\r\u001b[K     |██████████████████████████████▏ | 184kB 9.3MB/s eta 0:00:01\r\u001b[K     |███████████████████████████████▉| 194kB 9.3MB/s eta 0:00:01\r\u001b[K     |████████████████████████████████| 204kB 9.3MB/s \n",
            "\u001b[?25hBuilding wheels for collected packages: bitstring\n",
            "  Building wheel for bitstring (setup.py) ... \u001b[?25l\u001b[?25hdone\n",
            "  Created wheel for bitstring: filename=bitstring-3.1.7-cp37-none-any.whl size=37949 sha256=6b6141ec6e001b08d6a9fe9aca6cc34d32189ffc8bb948893acbdf57b5015dd1\n",
            "  Stored in directory: /root/.cache/pip/wheels/b8/27/f0/8373e26b7de57db03dc18aaaebdd8c26a99da882416f762979\n",
            "Successfully built bitstring\n",
            "Installing collected packages: bitstring\n",
            "Successfully installed bitstring-3.1.7\n"
          ],
          "name": "stdout"
        }
      ]
    },
    {
      "cell_type": "code",
      "metadata": {
        "id": "2efm5YD2UBGD"
      },
      "source": [
        "\"\"\"\n",
        "input\n",
        "x         : (double) valor a evaluar\n",
        "bits_mant : (int) cantidad de bits de la mantisa\n",
        "bits_exp  : (int) cantidad de bits del exponente\n",
        "output\n",
        "result      : (double) resultado obtenido\n",
        "\"\"\"\n",
        "def f_new_rep(x, bits_mant, bits_exp):\n",
        "    # Algoritmo de representación de punto flotante modificada.\n",
        "    \n",
        "    bin_num = bs.pack('>d', x).bin\n",
        "    sign_og, exp_og, mant_og = bin_num[0], bin_num[1:12], bin_num[12:12+bits_mant]\n",
        "    sign_dec = 1\n",
        "    if (sign_og == \"1\"): sign_dec = -1\n",
        "\n",
        "    # Check first for special cases\n",
        "    if exp_og == \"1\"*len(exp_og): \n",
        "        if mant_og == \"0\"*len(mant_og):\n",
        "            return np.inf*sign_dec # Infinity and beyond\n",
        "        else: return np.nan # Not a Number\n",
        "    if bin_num == \"0\"*len(bin_num): return 0 # Zero\n",
        "    \n",
        "    # Mantissa\n",
        "    mant_dec = 0\n",
        "    for i, n in enumerate(mant_og):\n",
        "        if(n == \"1\"): mant_dec += 2**-(i+1)\n",
        "    \n",
        "    # Exponent\n",
        "    offset_og = int(\"1\"*10, 2)\n",
        "    dec_og = int(exp_og, 2) - offset_og\n",
        "    if dec_og > 2**(bits_exp-1):\n",
        "        dec_og = 2**(bits_exp-1)\n",
        "\n",
        "    elif dec_og < -2**(bits_exp-1):\n",
        "        return 0\n",
        "\n",
        "    # Finally, \"carefully\" calculate the decimal\n",
        "    num = sign_dec * (1+mant_dec) * (2**dec_og)\n",
        "\n",
        "    return num\n",
        "\n",
        "\"\"\"\n",
        "input\n",
        "n1        : (double) valor a sumar\n",
        "n2        : (double) valor a sumar\n",
        "bits_mant : (int) cantidad de bits de la mantisa\n",
        "bits_exp  : (int) cantidad de bits del exponente\n",
        "output\n",
        "result      : (double) resultado obtenido\n",
        "\"\"\"\n",
        "def f_suma(n1,n2,bits_mant,bits_exp):\n",
        "    #Algoritmo que calcula la suma de dos numeros manteniendo el estandar asignado\n",
        "\n",
        "    n1, n2 = f_new_rep(n1, bits_mant, bits_exp), f_new_rep(n2, bits_mant, bits_exp)\n",
        "    result = f_new_rep(n1 + n2, bits_mant, bits_exp)\n",
        "   \n",
        "    return result\n",
        "\n",
        "\"\"\"\n",
        "input\n",
        "n1        : (double) valor a multiplicar\n",
        "n2        : (double) valor a multiplicar\n",
        "bits_mant : (int) cantidad de bits de la mantisa\n",
        "bits_exp  : (int) cantidad de bits del exponente\n",
        "output\n",
        "result      : (double) resultado obtenido\n",
        "\"\"\"\n",
        "def f_multiplicacion(n1,n2,bits_mant,bits_exp):\n",
        "    #Algoritmo que calcula la multiplicación de dos numeros manteniendo el estandar asignado\n",
        "\n",
        "    n1, n2 = f_new_rep(n1, bits_mant, bits_exp), f_new_rep(n2, bits_mant, bits_exp)\n",
        "    result = f_new_rep(n1 * n2, bits_mant, bits_exp)\n",
        "   \n",
        "    return result\n",
        "\n",
        "\"\"\"\n",
        "input\n",
        "n1        : (double) valor a multiplicar\n",
        "n2        : (double) valor a multiplicar\n",
        "bits_mant : (int) cantidad de bits de la mantisa\n",
        "bits_exp  : (int) cantidad de bits del exponente\n",
        "output\n",
        "result      : (double) resultado obtenido\n",
        "\"\"\"\n",
        "def f_division(n1,n2,bits_mant,bits_exp):\n",
        "    #Algoritmo que calcula la división de dos numeros manteniendo el estandar asignado\n",
        "\n",
        "    n1, n2 = f_new_rep(n1, bits_mant, bits_exp), f_new_rep(n2, bits_mant, bits_exp)\n",
        "    result = f_new_rep(n1 / n2, bits_mant, bits_exp)\n",
        "   \n",
        "    return result\n",
        "\n",
        "\"\"\"\n",
        "input\n",
        "A         : (double) valor a evaluar\n",
        "bits_mant : (int) cantidad de bits de la mantisa\n",
        "bits_exp  : (int) cantidad de bits del exponente\n",
        "output\n",
        "x_roots      : (array) raices del polinomio ordenadas de menor a mayor\n",
        "\"\"\"\n",
        "def f_find_roots(A,bits_mant,bits_exp, with_sqrt=True):\n",
        "    # Algoritmo para encontrar raíces de f(x).\n",
        "    \n",
        "    r_1 = 1 # Trivial root\n",
        "\n",
        "    square = lambda x: f_multiplicacion(x, x, bits_mant, bits_exp)\n",
        "    \n",
        "    n = f_new_rep(square(A)-1, bits_mant, bits_exp)\n",
        "\n",
        "    if not with_sqrt:\n",
        "        non_trivial_root = f_new_rep(f_bisection(n, 1, n, square, bits_mant, bits_exp, depth=500), bits_mant, bits_exp)\n",
        "    else:\n",
        "        non_trivial_root = f_new_rep(np.sqrt(n), bits_mant, bits_exp)\n",
        "\n",
        "    fraction = f_division(non_trivial_root, abs(A), bits_mant, bits_exp) \n",
        "\n",
        "    r_0 = 1 - fraction\n",
        "    r_2 = 1 + fraction\n",
        "\n",
        "    return (r_0, r_1, r_2)\n",
        "\n",
        "\n",
        "\"\"\"\n",
        "input\n",
        "n         : (double) numero al que se le buscará la raíz\n",
        "a         : (double) cota inferior de la biseccion\n",
        "b         : (double) cota superior de la biseccion\n",
        "f         : (function) funcion para la que se buscará la raiz\n",
        "bits_mant : (int) cantidad de bits de la mantisa\n",
        "bits_exp  : (int) cantidad de bits del exponente\n",
        "output\n",
        "x_roots      : (double) raiz\n",
        "\"\"\"\n",
        "def f_bisection(n, a, b, f, bits_mant, bits_exp, depth):\n",
        "# Se implementó este método para calcular la raiz antes de que se dijera que se podía usar sqrt\n",
        "\n",
        "    c = f_division( f_suma(a, b, bits_mant, bits_exp), 2, bits_mant, bits_exp);\n",
        "    f_c = f(c); # c^2\n",
        "    depth -= 1\n",
        "\n",
        "    if ((f_c == n) or (depth <= 0)):\n",
        "        return c\n",
        " \n",
        "    elif (f_c < n):\n",
        "        return f_bisection(n, c, b, f, bits_mant, bits_exp, depth)\n",
        "\n",
        "    else:\n",
        "        return f_bisection(n, a, c, f, bits_mant, bits_exp, depth)"
      ],
      "execution_count": 39,
      "outputs": []
    },
    {
      "cell_type": "code",
      "metadata": {
        "colab": {
          "base_uri": "https://localhost:8080/"
        },
        "id": "EV6RWjvbuqR5",
        "outputId": "5c7b6d4d-d35d-4877-df95-c7ba9e0f9930"
      },
      "source": [
        "[\"%.55f\" % root for root in f_find_roots(A=3,bits_mant=5,bits_exp=5)]"
      ],
      "execution_count": 45,
      "outputs": [
        {
          "output_type": "execute_result",
          "data": {
            "text/plain": [
              "['0.0625000000000000000000000000000000000000000000000000000',\n",
              " '1.0000000000000000000000000000000000000000000000000000000',\n",
              " '1.9375000000000000000000000000000000000000000000000000000']"
            ]
          },
          "metadata": {
            "tags": []
          },
          "execution_count": 45
        }
      ]
    },
    {
      "cell_type": "markdown",
      "metadata": {
        "id": "Nw-jJfD-VPMa"
      },
      "source": [
        "### Sinusoidal de Oreman (40 puntos)\n",
        "Considere la siguiente función en 3 variables:\n",
        "\\begin{equation}\n",
        "T(t,\\alpha,\\beta) = \\alpha\\cdot \\cos(t)+\\beta\\cdot \\sin(\\log(t)).\n",
        "\\end{equation}\n",
        "\n",
        "La cual permite calcular la temperatura de una cámara de ambiente dado los parámetros $\\alpha$ y $\\beta$ los cuales corresponden a las condiciones iniciales del experimento. \n",
        "Por otro lado $t$ representa el tiempo en días transcurridos desde que se inició.\n",
        "\n",
        "A usted le permiten utilizar la cámara por un tiempo limitado, para esto planea terminar a los 25 días pero debe asegurarse que las sustancias sean extraídas a temperatura 0.\n",
        "\n",
        "Cree un programa que reciba los parametros $\\alpha$ y $\\beta$ y que retorne el día en el cual deba ser extraído el material cumpliendo la condición de ser el día más cercano a 25 (ya sea antes o después).\n"
      ]
    },
    {
      "cell_type": "code",
      "metadata": {
        "id": "x0rfc_-6JTrG"
      },
      "source": [
        "\"\"\"\n",
        "input\n",
        "alpha: (float) parametro alpha\n",
        "beta: (float) parametro beta\n",
        "tol: (float) tolerancia\n",
        "output\n",
        "root: (double) raiz obtenida\n",
        "\"\"\"\n",
        "\n",
        "# Code based on Newton's method approach in https://github.com/tclaudioe/Scientific-Computing/blob/master/SC1v2/03_roots_of_1D_equations.ipynb\n",
        "# Modified to work on both sides of the requested x value\n",
        "def raiz_de_oreman(alpha, beta, tol=1e-10):\n",
        "    \n",
        "    fp = lambda x: beta*np.cos(np.log(x))/x - alpha*np.sin(x)\n",
        "    f  = lambda x: alpha*np.cos(x) + beta*np.sin(np.log(x))\n",
        "\n",
        "    x0_low, x0_up = 23, 25.25\n",
        "\n",
        "    hybrid_error_low = 100\n",
        "    hybrid_error_up  = 100\n",
        "    error_i_low = np.inf\n",
        "    error_i_up  = np.inf\n",
        "    max_iters = 100\n",
        "    i = 1\n",
        "\n",
        "    while (((hybrid_error_low > tol and hybrid_error_low < 1e12) or  \n",
        "            (hybrid_error_up  > tol and hybrid_error_up  < 1e12)) and i<=max_iters):\n",
        "        \n",
        "        x1_low = x0_low - f(x0_low) / fp(x0_low)\n",
        "        x1_up  = x0_up  - f(x0_up ) / fp(x0_up )\n",
        "\n",
        "        if f(x1_low) == 0.0 or f(x1_up) == 0.0:\n",
        "            hybrid_error = 0.0\n",
        "            break\n",
        "        \n",
        "        hybrid_error_low = abs(x1_low-x0_low) / np.max([abs(x1_low), 1e-12])\n",
        "        hybrid_error_up  = abs(x1_up-x0_up)   / np.max([abs(x1_up),  1e-12])\n",
        "        \n",
        "        error_iminus1_low = error_i_low\n",
        "        error_iminus1_up  = error_i_up\n",
        "        \n",
        "        error_i_low = abs(x1_low-x0_low)\n",
        "        error_i_up = abs(x1_up-x0_up)\n",
        "\n",
        "        x0_low = x1_low\n",
        "        x0_up = x1_up\n",
        "\n",
        "        i+=1\n",
        "        \n",
        "        if (hybrid_error_low < tol) and (abs(x1_low-25) <= abs(x1_up-25)):\n",
        "            return x1_low\n",
        "\n",
        "        if (hybrid_error_up < tol) and (abs(x1_up-25) <= abs(x1_low-25)):\n",
        "            return x1_up\n",
        "\n",
        "    if i>=max_iters:\n",
        "        print('Newtons Method did not converge. Too many iterations!!')\n",
        "        return None\n",
        "    else:\n",
        "        print('Newtons Method did not converge!!')\n",
        "        print(alpha, beta)\n",
        "        return None"
      ],
      "execution_count": 37,
      "outputs": []
    },
    {
      "cell_type": "code",
      "metadata": {
        "colab": {
          "base_uri": "https://localhost:8080/"
        },
        "id": "q05zWGYizKdb",
        "outputId": "3e655a95-57e6-43ed-c623-5f3e5c9cf611"
      },
      "source": [
        "raiz_de_oreman(1.6, 20)"
      ],
      "execution_count": 38,
      "outputs": [
        {
          "output_type": "execute_result",
          "data": {
            "text/plain": [
              "25.065629471024188"
            ]
          },
          "metadata": {
            "tags": []
          },
          "execution_count": 38
        }
      ]
    },
    {
      "cell_type": "markdown",
      "metadata": {
        "id": "gVOkWN_zrvR9"
      },
      "source": [
        "# Referencias\n",
        "\n",
        "https://github.com/tclaudioe/Scientific-Computing/blob/master/SC1v2/03_roots_of_1D_equations.ipynb"
      ]
    }
  ]
}