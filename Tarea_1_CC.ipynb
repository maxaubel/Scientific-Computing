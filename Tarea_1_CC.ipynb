{
  "nbformat": 4,
  "nbformat_minor": 0,
  "metadata": {
    "colab": {
      "name": "Tarea_1_CC.ipynb",
      "provenance": [],
      "collapsed_sections": [],
      "include_colab_link": true
    },
    "kernelspec": {
      "display_name": "Python 3",
      "language": "python",
      "name": "python3"
    },
    "language_info": {
      "codemirror_mode": {
        "name": "ipython",
        "version": 3
      },
      "file_extension": ".py",
      "mimetype": "text/x-python",
      "name": "python",
      "nbconvert_exporter": "python",
      "pygments_lexer": "ipython3",
      "version": "3.6.9"
    }
  },
  "cells": [
    {
      "cell_type": "markdown",
      "metadata": {
        "id": "view-in-github",
        "colab_type": "text"
      },
      "source": [
        "<a href=\"https://colab.research.google.com/github/maxaubel/Scientific-Computing/blob/master/Tarea_1_CC.ipynb\" target=\"_parent\"><img src=\"https://colab.research.google.com/assets/colab-badge.svg\" alt=\"Open In Colab\"/></a>"
      ]
    },
    {
      "cell_type": "markdown",
      "metadata": {
        "id": "aBPGOpUM11V1"
      },
      "source": [
        "\n",
        "<center>\n",
        "    <h1> INF285 - Computación Científica </h1>\n",
        "    <h1> Tarea N°1, V0.3 </h1>\n",
        "    \n",
        "</center>\n",
        "\n",
        "<p>\n",
        "\n",
        "</p>"
      ]
    },
    {
      "cell_type": "markdown",
      "metadata": {
        "id": "B7MCAVSDRk3l"
      },
      "source": [
        "## Instrucciones\n",
        "\n",
        "* La tarea es individual, sin embargo se invita a todos l@s estudiantes a que discutan entre ustedes las preguntas pero luego implementen de forma individual su tarea.\n",
        "* Las consultas sobre las tareas se deben realizar por medio de la plataforma Aula.\n",
        "* La tarea debe ser realizada en `Jupyter Notebook` (`Python3`).\n",
        "* Se evaluará la correcta utilización de librerias `NumPy`, `SciPy`, entre otras, así como la correcta implementación de algoritmos de forma vectorizada.\n",
        "* **No modifique la firma de las funciones** (a menos que se le diga lo contrario) y respete el output que se le exije. **En caso de no respetar esta regla la función se considerará errónea.**\n",
        "*  **El archivo de entrega debe denominarse ROL-tarea-numero.ipynb**. _De no respetarse este formato existirá un descuento de **50 puntos**_\n",
        "* La fecha de entrega es el jueves 6 de mayo a las **18:00 hrs**.  \n",
        "* Debe citar cualquier código ajeno utilizado (incluso si proviene de los Jupyter Notebooks del curso).\n",
        "* Puede agregar funciones extras siempre y cuando **no interfieran en las firmas** de las funciones principales establecidas."
      ]
    },
    {
      "cell_type": "markdown",
      "metadata": {
        "id": "PNhvmtRq2Orx"
      },
      "source": [
        "## Introducción \n",
        "\n",
        "En esta primera tarea de INF-285, versión 2021-1, estudiaremos la importancia de los primeros temas estudiados en el curso, los cuales son: Representación de Punto Flotante, Pérdida de Importancia, Errores de Cancelación y Búsqueda de Ceros. \n",
        "El desarrollo de cada uno de esos temas se presenta en una serie de preguntas donde deberá ir decidiendo, pregunta a pregunta, cómo cada uno de los temas se aplica.\n",
        "En general, los temas no se analizan por separado, sino de manera acoplada. \n",
        "Es muy importante que cada uno de los problemas sea analizado teóricamente primero, para luego poner su conocimiento en acción. \n",
        "Cada problema puede ser desarrollado de diversas formas, sin embargo, es muy importante determinar al final si el camino elegido resuelve la pregunta presentada.\n",
        "Es decir, debe aplicar la metodología IDEA!"
      ]
    },
    {
      "cell_type": "markdown",
      "metadata": {
        "id": "lAtn1U0qRg2S"
      },
      "source": [
        "## Problemas"
      ]
    },
    {
      "cell_type": "markdown",
      "metadata": {
        "id": "3znHUOxOUB0-"
      },
      "source": [
        "### 1. Simulador (60 ptos) \n",
        "\n",
        "Dada la familia de polinomios de grado 3 con la forma:\n",
        "\n",
        "\n",
        "\\begin{equation}\n",
        "f(x)=-1 + x + 2 A^2 x - 3 A^2 x^2 + A^2 x^3\n",
        "\\end{equation}\n",
        "\n",
        "Se pide implementar un algoritmo que reciba como parámetros el valor de $A$ (con $|A|>>1$), 'bits_mant' que corresponde a la cantidad de bits que tiene la mantisa y 'bits_exp' que corresponde a la cantidad de bits que tiene el exponente. \n",
        "El algoritmo se ejecutará en un computador ficticio que representa los números con esa cantidad de bits para el estándar de punto flotante IEEE. \n",
        "Debe controlar los casos especiales correctamente.\n",
        "Esta implementación debe calcular las raíces de $f$ sin pérdida de **importancia** con la cantidad de bits disponibles para la mantisa y la cantidad de bits para el exponente.\n",
        "Para obtener las raíces de $f$ usted debe encontrar de forma algebraica sus raíces y luego proponer un algoritmo basado en las _fórmulas_ obtenidas.\n",
        "\n",
        "El computador ficticio cuenta con las operaciones matemáticas necesarias para obtener las raíces. \n",
        "Considere como límites de bits para la mantisa en el intervalo $[2,52]$ y en el intervalo $[2,11]$ para los bits del exponente.\n",
        "\n",
        "Ejemplo:\n",
        "\n",
        "```python\n",
        "# Algoritmo de ejemplo\n",
        "a = 9819824.624837\n",
        "b = 148736.523476\n",
        "c = a+b\n",
        "\n",
        "# Implementación de ejemplo con Representación de Punto Flotante de 'bits_mant' bits en la mantisa y 'bits_exp' bits en el exponente.\n",
        "am = f_new_rep(9819824.624837,bits_mant,bits_exp) # Aproximar el input en la nueva representación.\n",
        "bm = f_new_rep(148736.523476,bits_mant,bits_exp) # Aproximar el input en la nueva representación.\n",
        "cm = f_suma(am,bm,bits_mant,bits_exp) # Aproximar el output de la suma y cada operación en la nueva representación.\n",
        "```\n"
      ]
    },
    {
      "cell_type": "code",
      "metadata": {
        "colab": {
          "base_uri": "https://localhost:8080/"
        },
        "id": "l1Yapf7cOIPf",
        "outputId": "c7a441b3-a57f-4200-8aa7-1703c0e4c0f6"
      },
      "source": [
        "!pip install bitstring\n",
        "import bitstring as bs\n",
        "import numpy as np\n",
        "import sys"
      ],
      "execution_count": 10,
      "outputs": [
        {
          "output_type": "stream",
          "text": [
            "Requirement already satisfied: bitstring in /usr/local/lib/python3.7/dist-packages (3.1.7)\n"
          ],
          "name": "stdout"
        }
      ]
    },
    {
      "cell_type": "code",
      "metadata": {
        "colab": {
          "base_uri": "https://localhost:8080/",
          "height": 86
        },
        "id": "KzxJSeEOy911",
        "outputId": "3da5aeaf-08fd-4514-da27-c8ceffd21ffd"
      },
      "source": [
        "# DRAFTTTTT BORRAR ANTES DE ENVIAR\n",
        "import bitstring as bs\n",
        "\n",
        "def to_binary(f):\n",
        "    b = bs.pack('>d', f)\n",
        "    b = b.bin\n",
        "    #show sign + exponent + mantisa\n",
        "    print(b[0]+' exp: '+b[1:12]+ ' mant: '+b[12:])\n",
        "'''\n",
        "to_binary(4.25) # (2^0 + 2^-4) * 2^2 = 2^2 + 2^-4\n",
        "print((2**0 + 2**-4) * 2**2)\n",
        "\n",
        "to_binary(10.5) # (2^0 + 2^-2 + 2^-4) * 2^3 = 10.5\n",
        "'''\n",
        "to_binary(7.45) # (2^0 + 2^-1 + 2^-3 + 2^-4...) * 2^2 = 7.45\n",
        "print((2**0 + 2**-1 + 2**-2 + 2**-4 + 2**-5 + 2**-6 + 2**-9 + 2**-10) * 2**2)\n",
        "\n",
        "int('11', 2)\n",
        "exp_og = \"10000000001\"\n",
        "int(\"1\"*(len(exp_og)-1), 2)\n",
        "\n",
        "def f_new_rep_test(x, mant, exp ):\n",
        "    # Algoritmo de representación de punto flotante modificada.\n",
        "    \n",
        "    bits_exp = 11\n",
        "    bits_mant = 51\n",
        "\n",
        "    bin_num = bs.pack('>d', x).bin\n",
        "    sign_og, exp_og, mant_og = bin_num[0], bin_num[1:12], bin_num[12:]#12+bits_mant]\n",
        "    print(sign_og + exp_og + mant_og)\n",
        "\n",
        "    sign_dec = 1\n",
        "    if (sign_og == \"1\"): sign_dec = -1\n",
        "\n",
        "    # Check first for special cases\n",
        "    '''if exp_og == \"1\"*len(exp_og): \n",
        "        if mant_og == \"0\"*len(mant_og):\n",
        "            return np.inf*sign_dec # Infinity and beyond\n",
        "        else: return np.nan # Not a Number\n",
        "    if bin_num == \"0\"*len(bin_num): return 0 # Zero '''\n",
        "    \n",
        "    # Mantissa\n",
        "    mant_dec = 0\n",
        "    for i, n in enumerate(mant):\n",
        "        if(n == \"1\"): mant_dec += 2**-(i+1)\n",
        "    \n",
        "    # Exponent\n",
        "    offset_og = int(\"1\"*10, 2)\n",
        "    dec_og = int(exp, 2) - offset_og\n",
        "    if dec_og > 2**(bits_exp-1):\n",
        "        dec_og = 2**(bits_exp-1)\n",
        "        return np.inf*sign_dec\n",
        "    \n",
        "    # Finally, carefully calculate the decimal\n",
        "    num = sign_dec * (1+mant_dec) * (2**dec_og)\n",
        "\n",
        "    return num\n",
        "\n",
        "#'%.60f' % f_suma(-511.45,-0.56, 12, 4)\n",
        "'%.60f' % f_new_rep_test(1.45, exp=\"1101110011001100110011001100110011001100110011001100\", mant=\"10000000001\")"
      ],
      "execution_count": 11,
      "outputs": [
        {
          "output_type": "stream",
          "text": [
            "0 exp: 10000000001 mant: 1101110011001100110011001100110011001100110011001101\n",
            "7.44921875\n",
            "0011111111110111001100110011001100110011001100110011001100110011\n"
          ],
          "name": "stdout"
        },
        {
          "output_type": "execute_result",
          "data": {
            "application/vnd.google.colaboratory.intrinsic+json": {
              "type": "string"
            },
            "text/plain": [
              "'inf'"
            ]
          },
          "metadata": {
            "tags": []
          },
          "execution_count": 11
        }
      ]
    },
    {
      "cell_type": "code",
      "metadata": {
        "colab": {
          "base_uri": "https://localhost:8080/",
          "height": 69
        },
        "id": "Ewjc11SJOMTH",
        "outputId": "2e74c03a-ca26-4590-a995-c4041d0d942a"
      },
      "source": [
        "# DRAFTTTTT\n",
        "def bin_to_dec (sign_og=\"0\", exp_og=\"10000000001\", mant_og=\"1101110011001100110011001100110011001100110011001101\"):\n",
        "    bits_mant = 51\n",
        "    bits_exp = 11\n",
        "    \n",
        "    sign_dec = 1\n",
        "    if (sign_og == \"1\"): sign_dec = -1\n",
        "\n",
        "    # Check first for special cases\n",
        "    if exp_og == \"1\"*len(exp_og): \n",
        "        if mant_og == \"0\"*len(mant_og):\n",
        "            print( np.inf*sign_dec) # Infinity and beyond\n",
        "        else: print( np.nan )# Not a Number\n",
        "\n",
        "    # Mantissa\n",
        "    mant_dec = 0\n",
        "    for i, n in enumerate(mant_og):\n",
        "        if(n == \"1\"): mant_dec += 2**-(i+1)\n",
        "\n",
        "    # Exponent\n",
        "    offset_og = int(\"1\"*10, 2)\n",
        "    dec_og = int(exp_og, 2) - offset_og\n",
        "    if dec_og > 2**(bits_exp-1):\n",
        "        dec_og = 2**(bits_exp-1)\n",
        "\n",
        "    # Finally, carefully calculate the decimal\n",
        "    num = sign_dec * (1+mant_dec) * (2**dec_og)\n",
        "    return num\n",
        "\n",
        "def get_next_bins(n, bits_mant, bits_exp, i):\n",
        "    bin_num = bs.pack('>d', n).bin\n",
        "    \n",
        "    new_bin = bin_num[1:12+bits_mant]\n",
        "\n",
        "    prev_bin = bin(int(new_bin, 2) + 1)\n",
        "    \n",
        "    print(new_bin)\n",
        "    print(prev_bin[2:])\n",
        "\n",
        "    return prev_bin\n",
        "'''\n",
        "n_0 = bin_to_dec (\"0\", \"10100000000\", \"1101110011001100110011001100110011001100110011001101\")\n",
        "n_2 = bin_to_dec (\"0\", \"10100000000\", \"1101110011001100110011001100110011001100110011001101\")\n",
        "\n",
        "a = 500.45\n",
        "print(n_1)\n",
        "print(f\"n_0-n_1: {'%.60f' % (float(n_0) - 1)}\")\n",
        "# print(f\"n_0-n_1: {'%.60f' % float(bin(int(a,2) - 1))}\")\n",
        "# print(f\"n_0-n_2: {'%.60f' % float(bin(int(a,2) + 1))}\")'''\n",
        "\n",
        "string = get_next_bins(3.45, 51, 11, 1)[2:]\n",
        "'%.60f' %  bin_to_dec (\"0\", \"1000000000\", \"01110011001100110011001100110011001100110011001110\")"
      ],
      "execution_count": 12,
      "outputs": [
        {
          "output_type": "stream",
          "text": [
            "10000000000101110011001100110011001100110011001100110011001101\n",
            "10000000000101110011001100110011001100110011001100110011001110\n"
          ],
          "name": "stdout"
        },
        {
          "output_type": "execute_result",
          "data": {
            "application/vnd.google.colaboratory.intrinsic+json": {
              "type": "string"
            },
            "text/plain": [
              "'0.000000000000000000000000000000000000000000000000000000000000'"
            ]
          },
          "metadata": {
            "tags": []
          },
          "execution_count": 12
        }
      ]
    },
    {
      "cell_type": "code",
      "metadata": {
        "colab": {
          "base_uri": "https://localhost:8080/",
          "height": 35
        },
        "id": "FRJw5MNDmIBC",
        "outputId": "8bffbf5e-8766-4468-8746-67fea209f7fa"
      },
      "source": [
        "#DRAFTTTTT 2 \n",
        "\n",
        "def bisection(n, a, b, f): # test\n",
        " \n",
        "    c = (a + b) / 2;\n",
        "    f_c = f(c);\n",
        "\n",
        "    if ((f_c == n) or (abs(f_c - n) < 0.00001)):\n",
        "        return c;\n",
        " \n",
        "    elif (f_c < n):\n",
        "        return bisection(n, c, b, f);\n",
        " \n",
        "    else:\n",
        "        return bisection(n, a, c, f);\n",
        "\n",
        "def f_bisection(n, a, b, f, bits_mant, bits_exp): # test\n",
        " \n",
        "    c = f_division( f_suma(a, b, bits_mant, bits_exp), 2, bits_mant, bits_exp);\n",
        "    f_c = f(c);\n",
        "\n",
        "    if ((f_c == n) or (abs(f_c - n) < 0.1)):\n",
        "        return c;\n",
        " \n",
        "    elif (f_c < n):\n",
        "        return f_bisection(n, c, b, f, bits_mant, bits_exp);\n",
        " \n",
        "    else:\n",
        "        return f_bisection(n, a, c, f, bits_mant, bits_exp);\n",
        "\n",
        "'''\n",
        "bits_mant = 10\n",
        "bits_exp = 10\n",
        "\n",
        "f = lambda x: f_multiplicacion(x, x, bits_mant, bits_exp)\n",
        "a = 7.45\n",
        "f_bisection(a, 1, a, f, bits_mant, bits_exp)'''"
      ],
      "execution_count": 13,
      "outputs": [
        {
          "output_type": "execute_result",
          "data": {
            "application/vnd.google.colaboratory.intrinsic+json": {
              "type": "string"
            },
            "text/plain": [
              "'\\nbits_mant = 10\\nbits_exp = 10\\n\\nf = lambda x: f_multiplicacion(x, x, bits_mant, bits_exp)\\na = 7.45\\nf_bisection(a, 1, a, f, bits_mant, bits_exp)'"
            ]
          },
          "metadata": {
            "tags": []
          },
          "execution_count": 13
        }
      ]
    },
    {
      "cell_type": "code",
      "metadata": {
        "id": "2efm5YD2UBGD"
      },
      "source": [
        "\"\"\"\n",
        "input\n",
        "x         : (double) valor a evaluar\n",
        "bits_mant : (int) cantidad de bits de la mantisa\n",
        "bits_exp  : (int) cantidad de bits del exponente\n",
        "output\n",
        "result      : (double) resultado obtenido\n",
        "\"\"\"\n",
        "def f_new_rep(x, bits_mant, bits_exp):\n",
        "    # Algoritmo de representación de punto flotante modificada.\n",
        "    \n",
        "    bin_num = bs.pack('>d', x).bin\n",
        "    sign_og, exp_og, mant_og = bin_num[0], bin_num[1:12], bin_num[12:12+bits_mant]\n",
        "    sign_dec = 1\n",
        "    if (sign_og == \"1\"): sign_dec = -1\n",
        "\n",
        "    # Check first for special cases\n",
        "    if exp_og == \"1\"*len(exp_og): \n",
        "        if mant_og == \"0\"*len(mant_og):\n",
        "            return np.inf*sign_dec # Infinity and beyond\n",
        "        else: return np.nan # Not a Number\n",
        "    if bin_num == \"0\"*len(bin_num): return 0 # Zero\n",
        "    \n",
        "    # Mantissa\n",
        "    mant_dec = 0\n",
        "    for i, n in enumerate(mant_og):\n",
        "        if(n == \"1\"): mant_dec += 2**-(i+1)\n",
        "    \n",
        "    # Exponent\n",
        "    offset_og = int(\"1\"*10, 2)\n",
        "    dec_og = int(exp_og, 2) - offset_og\n",
        "    if dec_og > 2**(bits_exp-1):\n",
        "        dec_og = 2**(bits_exp-1)\n",
        "    \n",
        "    # Finally, carefully calculate the decimal\n",
        "    num = sign_dec * (1+mant_dec) * (2**dec_og)\n",
        "\n",
        "    return num\n",
        "\n",
        "\"\"\"\n",
        "input\n",
        "n1        : (double) valor a sumar\n",
        "n2        : (double) valor a sumar\n",
        "bits_mant : (int) cantidad de bits de la mantisa\n",
        "bits_exp  : (int) cantidad de bits del exponente\n",
        "output\n",
        "result      : (double) resultado obtenido\n",
        "\"\"\"\n",
        "def f_suma(n1,n2,bits_mant,bits_exp):\n",
        "    #Algoritmo que calcula la suma de dos numeros manteniendo el estandar asignado\n",
        "\n",
        "    n1, n2 = f_new_rep(n1, bits_mant, bits_exp), f_new_rep(n2, bits_mant, bits_exp)\n",
        "    result = f_new_rep(n1 + n2, bits_mant, bits_exp)\n",
        "   \n",
        "    return result\n",
        "\n",
        "\"\"\"\n",
        "input\n",
        "n1        : (double) valor a multiplicar\n",
        "n2        : (double) valor a multiplicar\n",
        "bits_mant : (int) cantidad de bits de la mantisa\n",
        "bits_exp  : (int) cantidad de bits del exponente\n",
        "output\n",
        "result      : (double) resultado obtenido\n",
        "\"\"\"\n",
        "def f_multiplicacion(n1,n2,bits_mant,bits_exp):\n",
        "    #Algoritmo que calcula la multiplicación de dos numeros manteniendo el estandar asignado\n",
        "\n",
        "    n1, n2 = f_new_rep(n1, bits_mant, bits_exp), f_new_rep(n2, bits_mant, bits_exp)\n",
        "    result = f_new_rep(n1 * n2, bits_mant, bits_exp)\n",
        "   \n",
        "    return result\n",
        "\n",
        "\"\"\"\n",
        "input\n",
        "n1        : (double) valor a multiplicar\n",
        "n2        : (double) valor a multiplicar\n",
        "bits_mant : (int) cantidad de bits de la mantisa\n",
        "bits_exp  : (int) cantidad de bits del exponente\n",
        "output\n",
        "result      : (double) resultado obtenido\n",
        "\"\"\"\n",
        "def f_division(n1,n2,bits_mant,bits_exp):\n",
        "    #Algoritmo que calcula la división de dos numeros manteniendo el estandar asignado\n",
        "\n",
        "    n1, n2 = f_new_rep(n1, bits_mant, bits_exp), f_new_rep(n2, bits_mant, bits_exp)\n",
        "    result = f_new_rep(n1 / n2, bits_mant, bits_exp)\n",
        "   \n",
        "    return result\n",
        "\n",
        "\"\"\"\n",
        "input\n",
        "A         : (double) valor a evaluar\n",
        "bits_mant : (int) cantidad de bits de la mantisa\n",
        "bits_exp  : (int) cantidad de bits del exponente\n",
        "output\n",
        "x_roots      : (array) raices del polinomio ordenadas de menor a mayor\n",
        "\"\"\"\n",
        "def f_find_roots(A,bits_mant,bits_exp):\n",
        "    # Algoritmo para encontrar raíces de f(x).\n",
        "    \n",
        "    r_1 = 1 # Trivial root\n",
        "\n",
        "    square = lambda x: f_multiplicacion(x, x, bits_mant, bits_exp)\n",
        "    \n",
        "    n = square(A)-1\n",
        "    non_trivial_root = f_bisection(n, 1, n, square, bits_mant, bits_exp, depth=50)\n",
        "    fraction = f_division(non_trivial_root, abs(A), bits_mant, bits_exp) \n",
        "\n",
        "    r_0 = 1 - fraction\n",
        "    r_2 = 1 + fraction\n",
        "\n",
        "    return (r_0, r_1, r_2)\n",
        "\n",
        "\n",
        "\"\"\"\n",
        "input\n",
        "n         : (double) numero al que se le buscará la raíz\n",
        "a         : (double) cota inferior de la biseccion\n",
        "b         : (double) cota superior de la biseccion\n",
        "f         : (function) funcion para la que se buscará la raiz\n",
        "bits_mant : (int) cantidad de bits de la mantisa\n",
        "bits_exp  : (int) cantidad de bits del exponente\n",
        "output\n",
        "x_roots      : (double) raiz\n",
        "\"\"\"\n",
        "def f_bisection(n, a, b, f, bits_mant, bits_exp, depth):\n",
        " \n",
        "    c = f_division( f_suma(a, b, bits_mant, bits_exp), 2, bits_mant, bits_exp);\n",
        "    f_c = f(c); # c^2\n",
        "    depth -= 1\n",
        "\n",
        "    if ((f_c == n) or (depth <= 0)):\n",
        "        return c\n",
        " \n",
        "    elif (f_c < n):\n",
        "        return f_bisection(n, c, b, f, bits_mant, bits_exp, depth)\n",
        "\n",
        "    else:\n",
        "        return f_bisection(n, a, c, f, bits_mant, bits_exp, depth)"
      ],
      "execution_count": 14,
      "outputs": []
    },
    {
      "cell_type": "markdown",
      "metadata": {
        "id": "Nw-jJfD-VPMa"
      },
      "source": [
        "### Sinusoidal de Oreman (40 puntos)\n",
        "Considere la siguiente función en 3 variables:\n",
        "\\begin{equation}\n",
        "T(t,\\alpha,\\beta) = \\alpha\\cdot \\cos(t)+\\beta\\cdot \\sin(\\log(t)).\n",
        "\\end{equation}\n",
        "\n",
        "La cual permite calcular la temperatura de una cámara de ambiente dado los parámetros $\\alpha$ y $\\beta$ los cuales corresponden a las condiciones iniciales del experimento. \n",
        "Por otro lado $t$ representa el tiempo en días transcurridos desde que se inició.\n",
        "\n",
        "A usted le permiten utilizar la cámara por un tiempo limitado, para esto planea terminar a los 25 días pero debe asegurarse que las sustancias sean extraídas a temperatura 0.\n",
        "\n",
        "Cree un programa que reciba los parametros $\\alpha$ y $\\beta$ y que retorne el día en el cual deba ser extraído el material cumpliendo la condición de ser el día más cercano a 25 (ya sea antes o después).\n"
      ]
    },
    {
      "cell_type": "code",
      "metadata": {
        "id": "x0rfc_-6JTrG",
        "colab": {
          "base_uri": "https://localhost:8080/"
        },
        "outputId": "c4147b66-dd2d-406f-9c1c-00950ffc5dbd"
      },
      "source": [
        "\"\"\"\n",
        "input\n",
        "alpha: (float) parametro alpha\n",
        "beta: (float) parametro beta\n",
        "tol: (float) tolerancia\n",
        "output\n",
        "root: (double) raiz obtenida\n",
        "\"\"\"\n",
        "\n",
        "# Code based on Newton's method approach in https://github.com/tclaudioe/Scientific-Computing/blob/master/SC1v2/03_roots_of_1D_equations.ipynb\n",
        "# Modified to work on both sides of the requested x value\n",
        "def raiz_de_oreman(alpha, beta, tol = 1e-10):\n",
        "            \n",
        "    fp = lambda x: b*np.cos(np.log(x))/x - a*np.sin(x)\n",
        "    f  = lambda x: a*np.cos(x) + b*np.sin(np.log(x))\n",
        "\n",
        "    x0_low, x0_up = 23, 25.25\n",
        "\n",
        "    hybrid_error_low = 100\n",
        "    hybrid_error_up  = 100\n",
        "    error_i_low = np.inf\n",
        "    error_i_up  = np.inf\n",
        "    max_iters = 100\n",
        "    i = 1\n",
        "\n",
        "    while (((hybrid_error_low > tol and hybrid_error_low < 1e12) or  \n",
        "            (hybrid_error_up  > tol and hybrid_error_up  < 1e12)) and i<=max_iters):\n",
        "        \n",
        "        x1_low = x0_low - f(x0_low) / fp(x0_low)\n",
        "        x1_up  = x0_up  - f(x0_up ) / fp(x0_up )\n",
        "\n",
        "        if f(x1_low) == 0.0 or f(x1_up) == 0.0:\n",
        "            hybrid_error = 0.0\n",
        "            break\n",
        "        \n",
        "        hybrid_error_low = abs(x1_low-x0_low) / np.max([abs(x1_low), 1e-12])\n",
        "        hybrid_error_up  = abs(x1_up-x0_up)   / np.max([abs(x1_up),  1e-12])\n",
        "        \n",
        "        error_iminus1_low = error_i_low\n",
        "        error_iminus1_up  = error_i_up\n",
        "        \n",
        "        error_i_low = abs(x1_low-x0_low)\n",
        "        error_i_up = abs(x1_up-x0_up)\n",
        "\n",
        "        x0_low = x1_low\n",
        "        x0_up = x1_up\n",
        "\n",
        "        i+=1\n",
        "        \n",
        "        if (hybrid_error_low < tol) and (abs(x1_low-25) <= abs(x1_up-25)):\n",
        "            return x1_low\n",
        "\n",
        "        if (hybrid_error_up < tol) and (abs(x1_up-25) <= abs(x1_low-25)):\n",
        "                return x1_up\n",
        "  \n",
        "    if i>=max_iters:\n",
        "        print('Newtons Method did not converge. Too many iterations!!')\n",
        "        return None\n",
        "    else:\n",
        "        print('Newtons Method did not converge!!')\n",
        "        return None\n",
        "\n",
        "a = 1.6\n",
        "b = 20\n",
        "\n",
        "raiz_de_oreman(a, b, tol = 1e-10)"
      ],
      "execution_count": 163,
      "outputs": [
        {
          "output_type": "execute_result",
          "data": {
            "text/plain": [
              "25.065629471024188"
            ]
          },
          "metadata": {
            "tags": []
          },
          "execution_count": 163
        }
      ]
    },
    {
      "cell_type": "code",
      "metadata": {
        "colab": {
          "base_uri": "https://localhost:8080/",
          "height": 69
        },
        "id": "tIhjN9GdnxhZ",
        "outputId": "946b66cd-afe1-4adf-d60a-afb3c8ab3f11"
      },
      "source": [
        "# DRAFT\n",
        "from tqdm import tqdm\n",
        "def newton_method(f, fp, x0, rel_error=1e-8, m=1, maxNumberIterations=100):\n",
        "    #Initialization of hybrid error and absolute\n",
        "    hybrid_error = 100\n",
        "    error_i = np.inf\n",
        "    \n",
        "    #Iteration counter\n",
        "    i = 1\n",
        "    while (hybrid_error > rel_error and hybrid_error < 1e12 and i<=maxNumberIterations):\n",
        "        #Newton's iteration\n",
        "        x1 = x0-m*f(x0)/fp(x0)\n",
        "        \n",
        "        #Checking if root was found\n",
        "        if f(x1) == 0.0:\n",
        "            hybrid_error = 0.0\n",
        "            break\n",
        "        \n",
        "        hybrid_error = abs(x1-x0)/np.max([abs(x1),1e-12])\n",
        "        \n",
        "        error_iminus1 = error_i\n",
        "        error_i = abs(x1-x0)\n",
        "\n",
        "        x0 = x1\n",
        "    \n",
        "    if hybrid_error < rel_error: \n",
        "        return x1\n",
        "    elif i>=maxNumberIterations:\n",
        "        print('Newton''s Method did not converge. Too many iterations!!')\n",
        "        return None\n",
        "    else:\n",
        "        print('Newton''s Method did not converge!')\n",
        "        return None\n",
        "\n",
        "a = 3\n",
        "b = 20\n",
        "\n",
        "f = lambda x: a*np.cos(x) + b*np.sin(np.log(x))\n",
        "fp = lambda x: b*np.cos(np.log(x))/x - a*np.sin(x)\n",
        "\n",
        "print( newton_method(f, fp, 25.25,rel_error=1e-10,m=1) )\n",
        "#print( newton_method(f, fp, 23,rel_error=1e-10,m=1) )\n",
        "'''\n",
        "for a in tqdm(range(-10, 10)):\n",
        "    for b in list(range(-10, 10)):\n",
        "        #if not newton_method(f, fp, 23,rel_error=1e-10,m=1):\n",
        "         #   print(f\"for a: {a}, b: {b}, x_0=23!!!!\")\n",
        "        print(f\"for a: {a}, b: {b}, x_0=25.25!!!!\")\n",
        "        if not newton_method(f, fp, 25.25,rel_error=1e-10,m=1):\n",
        "            print(\"NOT FOUND\")'''"
      ],
      "execution_count": 112,
      "outputs": [
        {
          "output_type": "stream",
          "text": [
            "25.868466743608035\n"
          ],
          "name": "stdout"
        },
        {
          "output_type": "execute_result",
          "data": {
            "application/vnd.google.colaboratory.intrinsic+json": {
              "type": "string"
            },
            "text/plain": [
              "'\\nfor a in tqdm(range(-10, 10)):\\n    for b in list(range(-10, 10)):\\n        #if not newton_method(f, fp, 23,rel_error=1e-10,m=1):\\n         #   print(f\"for a: {a}, b: {b}, x_0=23!!!!\")\\n        print(f\"for a: {a}, b: {b}, x_0=25.25!!!!\")\\n        if not newton_method(f, fp, 25.25,rel_error=1e-10,m=1):\\n            print(\"NOT FOUND\")'"
            ]
          },
          "metadata": {
            "tags": []
          },
          "execution_count": 112
        }
      ]
    },
    {
      "cell_type": "markdown",
      "metadata": {
        "id": "gVOkWN_zrvR9"
      },
      "source": [
        "# Referencias\n",
        "\n",
        "https://github.com/tclaudioe/Scientific-Computing/blob/master/SC1v2/03_roots_of_1D_equations.ipynb"
      ]
    }
  ]
}